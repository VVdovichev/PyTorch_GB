{
  "cells": [
    {
      "cell_type": "code",
      "execution_count": 39,
      "metadata": {
        "id": "oR5Gw0l0pexo"
      },
      "outputs": [],
      "source": [
        "import torch"
      ]
    },
    {
      "cell_type": "code",
      "execution_count": 40,
      "metadata": {
        "colab": {
          "base_uri": "https://localhost:8080/"
        },
        "id": "E828B028pexq",
        "outputId": "bd6adf51-b715-4291-b325-b047cbcb50ac"
      },
      "outputs": [
        {
          "output_type": "execute_result",
          "data": {
            "text/plain": [
              "tensor([[[-0.2982,  1.4221,  0.1733,  0.7573,  1.1696],\n",
              "         [ 1.1827, -1.3697, -0.8046, -0.7592,  1.6927],\n",
              "         [-0.4979,  0.4758, -0.6725, -0.2170, -0.8721],\n",
              "         [-1.3490,  0.8947,  0.7508, -0.2387, -0.8914]],\n",
              "\n",
              "        [[ 0.0700, -2.7807, -0.4703, -0.1492,  0.5418],\n",
              "         [-1.8742,  0.1525,  1.1902, -0.1721, -0.4812],\n",
              "         [-0.9880,  0.7646, -0.4185, -0.3852,  1.6585],\n",
              "         [-0.6077, -0.0124,  0.5613,  0.0734, -1.5077]],\n",
              "\n",
              "        [[ 0.7984, -1.7426,  0.5308, -0.2410,  0.3191],\n",
              "         [ 0.4287, -0.3175,  0.1111, -0.8965, -2.1413],\n",
              "         [ 0.5859,  0.0417, -0.3735,  0.2330,  1.0692],\n",
              "         [ 0.2959, -1.4343, -0.2984,  1.6235, -1.3917]]])"
            ]
          },
          "metadata": {},
          "execution_count": 40
        }
      ],
      "source": [
        "# 1. Создайте случайный FloatTensor размера 3x4x5\n",
        "a = torch.randn(3, 4, 5).type(torch.FloatTensor)\n",
        "a"
      ]
    },
    {
      "cell_type": "code",
      "execution_count": 41,
      "metadata": {
        "colab": {
          "base_uri": "https://localhost:8080/"
        },
        "id": "Tr3odXbCpexr",
        "outputId": "f503203d-7a54-4882-ad35-5eb44d646590"
      },
      "outputs": [
        {
          "output_type": "execute_result",
          "data": {
            "text/plain": [
              "torch.Size([3, 4, 5])"
            ]
          },
          "metadata": {},
          "execution_count": 41
        }
      ],
      "source": [
        "# 2. Выведите его форму (shape)\n",
        "a.shape"
      ]
    },
    {
      "cell_type": "code",
      "execution_count": 46,
      "metadata": {
        "colab": {
          "base_uri": "https://localhost:8080/"
        },
        "id": "txgQd5lnpexs",
        "outputId": "3678abf7-9142-4aae-f1e6-800845aab798"
      },
      "outputs": [
        {
          "output_type": "execute_result",
          "data": {
            "text/plain": [
              "tensor([[-0.2982,  1.4221,  0.1733,  0.7573,  1.1696,  1.1827, -1.3697, -0.8046,\n",
              "         -0.7592,  1.6927],\n",
              "        [-0.4979,  0.4758, -0.6725, -0.2170, -0.8721, -1.3490,  0.8947,  0.7508,\n",
              "         -0.2387, -0.8914],\n",
              "        [ 0.0700, -2.7807, -0.4703, -0.1492,  0.5418, -1.8742,  0.1525,  1.1902,\n",
              "         -0.1721, -0.4812],\n",
              "        [-0.9880,  0.7646, -0.4185, -0.3852,  1.6585, -0.6077, -0.0124,  0.5613,\n",
              "          0.0734, -1.5077],\n",
              "        [ 0.7984, -1.7426,  0.5308, -0.2410,  0.3191,  0.4287, -0.3175,  0.1111,\n",
              "         -0.8965, -2.1413],\n",
              "        [ 0.5859,  0.0417, -0.3735,  0.2330,  1.0692,  0.2959, -1.4343, -0.2984,\n",
              "          1.6235, -1.3917]])"
            ]
          },
          "metadata": {},
          "execution_count": 46
        }
      ],
      "source": [
        "# 3. Приведите его к форме 6х10\n",
        "a.resize_(6, 10)"
      ]
    },
    {
      "cell_type": "code",
      "execution_count": 47,
      "metadata": {
        "colab": {
          "base_uri": "https://localhost:8080/"
        },
        "id": "CBwvFvQNpext",
        "outputId": "402d781e-c634-411c-9ad2-56c5ac46597d"
      },
      "outputs": [
        {
          "output_type": "execute_result",
          "data": {
            "text/plain": [
              "tensor([[2],\n",
              "        [3],\n",
              "        [7],\n",
              "        [9],\n",
              "        [6],\n",
              "        [7],\n",
              "        [7],\n",
              "        [2],\n",
              "        [2],\n",
              "        [8]], dtype=torch.int32)"
            ]
          },
          "metadata": {},
          "execution_count": 47
        }
      ],
      "source": [
        "# 4. Создайте случайный IntTensor размера 10\n",
        "b = torch.randint(10, size=(10, 1)).type(torch.IntTensor)\n",
        "b"
      ]
    },
    {
      "cell_type": "code",
      "execution_count": 48,
      "metadata": {
        "colab": {
          "base_uri": "https://localhost:8080/"
        },
        "id": "BrNAGJSEpext",
        "outputId": "2ba3b220-6e3d-4ffe-9a79-c2b7eaf8d771"
      },
      "outputs": [
        {
          "output_type": "execute_result",
          "data": {
            "text/plain": [
              "tensor([[ -0.5964,   4.2664,   1.2131,   6.8156,   7.0178,   8.2790,  -9.5881,\n",
              "          -1.6091,  -1.5184,  13.5415],\n",
              "        [ -0.9959,   1.4275,  -4.7076,  -1.9529,  -5.2325,  -9.4433,   6.2632,\n",
              "           1.5017,  -0.4775,  -7.1310],\n",
              "        [  0.1400,  -8.3422,  -3.2924,  -1.3430,   3.2506, -13.1194,   1.0672,\n",
              "           2.3805,  -0.3441,  -3.8497],\n",
              "        [ -1.9759,   2.2938,  -2.9292,  -3.4666,   9.9508,  -4.2539,  -0.0868,\n",
              "           1.1225,   0.1468, -12.0613],\n",
              "        [  1.5967,  -5.2277,   3.7159,  -2.1689,   1.9146,   3.0006,  -2.2228,\n",
              "           0.2222,  -1.7930, -17.1301],\n",
              "        [  1.1717,   0.1252,  -2.6145,   2.0973,   6.4153,   2.0714, -10.0401,\n",
              "          -0.5968,   3.2470, -11.1336]])"
            ]
          },
          "metadata": {},
          "execution_count": 48
        }
      ],
      "source": [
        "# 5. Умножьте созданный FloatTensor на созданный IntTensor поэлементно\n",
        "a * b.T\n"
      ]
    },
    {
      "cell_type": "code",
      "execution_count": 49,
      "metadata": {
        "colab": {
          "base_uri": "https://localhost:8080/"
        },
        "id": "oC_zL7Knpexu",
        "outputId": "ef37ab8c-e29c-402e-df3c-08e7475548f8"
      },
      "outputs": [
        {
          "output_type": "execute_result",
          "data": {
            "text/plain": [
              "tensor([[11.4468, -5.2285, -7.6033, -0.8035, -4.5248,  0.2134],\n",
              "        [-5.2285,  5.7701,  2.5467,  2.3309, -0.4660, -2.0574],\n",
              "        [-7.6033,  2.5467, 13.4880,  1.4755,  5.3257, -0.0930],\n",
              "        [-0.8035,  2.3309,  1.4755,  7.5976,  1.2470,  3.1808],\n",
              "        [-4.5248, -0.4660,  5.3257,  1.2470,  9.8013,  2.5554],\n",
              "        [ 0.2134, -2.0574, -0.0930,  3.1808,  2.5554,  8.4884]])"
            ]
          },
          "metadata": {},
          "execution_count": 49
        }
      ],
      "source": [
        "# 6. Умножьте тензор матрично на себя, чтобы результат был размерности 6x6\n",
        "# Подсказка: .dot может не подойти\n",
        "a @ a.T"
      ]
    },
    {
      "cell_type": "code",
      "source": [
        "# 7. Посчитайте производную функции y = x**3 + z - 75t в точке (1, 0.5, 2)\n",
        "x = torch.tensor([1.0], requires_grad=True)\n",
        "z = torch.tensor([0.5], requires_grad=True)\n",
        "t = torch.tensor([2.0], requires_grad=True)\n",
        "\n",
        "\n",
        "y = x**3 + z - 75 * t\n",
        "\n",
        "y.backward()\n",
        "x.grad, z.grad, t.grad"
      ],
      "metadata": {
        "colab": {
          "base_uri": "https://localhost:8080/"
        },
        "id": "QpuqRK8_z-CW",
        "outputId": "328ba75d-61f9-4aa7-9640-9e394888ef7f"
      },
      "execution_count": 57,
      "outputs": [
        {
          "output_type": "execute_result",
          "data": {
            "text/plain": [
              "(tensor([3.]), tensor([1.]), tensor([-75.]))"
            ]
          },
          "metadata": {},
          "execution_count": 57
        }
      ]
    },
    {
      "cell_type": "code",
      "execution_count": 58,
      "metadata": {
        "colab": {
          "base_uri": "https://localhost:8080/"
        },
        "id": "RFyo8BIApexv",
        "outputId": "744ec0d2-fefd-4cab-f238-0c3c66b3e3fb"
      },
      "outputs": [
        {
          "output_type": "execute_result",
          "data": {
            "text/plain": [
              "tensor([[1., 1., 1., 1., 1., 1.],\n",
              "        [1., 1., 1., 1., 1., 1.],\n",
              "        [1., 1., 1., 1., 1., 1.],\n",
              "        [1., 1., 1., 1., 1., 1.],\n",
              "        [1., 1., 1., 1., 1., 1.]])"
            ]
          },
          "metadata": {},
          "execution_count": 58
        }
      ],
      "source": [
        "# 8. Создайте единичный тензор размера 5x6\n",
        "c = torch.ones(5, 6)\n",
        "c"
      ]
    },
    {
      "cell_type": "code",
      "execution_count": 59,
      "metadata": {
        "colab": {
          "base_uri": "https://localhost:8080/"
        },
        "id": "w-8-sLnJpexw",
        "outputId": "27781b5e-13a1-4f35-d48e-6cf8029d3ba7"
      },
      "outputs": [
        {
          "output_type": "execute_result",
          "data": {
            "text/plain": [
              "array([[1., 1., 1., 1., 1., 1.],\n",
              "       [1., 1., 1., 1., 1., 1.],\n",
              "       [1., 1., 1., 1., 1., 1.],\n",
              "       [1., 1., 1., 1., 1., 1.],\n",
              "       [1., 1., 1., 1., 1., 1.]], dtype=float32)"
            ]
          },
          "metadata": {},
          "execution_count": 59
        }
      ],
      "source": [
        "# 9. Переведите его в формат numpy\n",
        "c.numpy()"
      ]
    }
  ],
  "metadata": {
    "kernelspec": {
      "display_name": "Python 3",
      "language": "python",
      "name": "python3"
    },
    "language_info": {
      "codemirror_mode": {
        "name": "ipython",
        "version": 3
      },
      "file_extension": ".py",
      "mimetype": "text/x-python",
      "name": "python",
      "nbconvert_exporter": "python",
      "pygments_lexer": "ipython3",
      "version": "3.7.4"
    },
    "colab": {
      "name": "HW_01.ipynb",
      "provenance": []
    }
  },
  "nbformat": 4,
  "nbformat_minor": 0
}